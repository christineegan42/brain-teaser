{
 "cells": [
  {
   "cell_type": "code",
   "execution_count": 1,
   "id": "1129dafc",
   "metadata": {},
   "outputs": [],
   "source": [
    "import pandas as pd\n",
    "import matplotlib.pyplot as plt\n",
    "import seaborn as sns\n",
    "import random"
   ]
  },
  {
   "cell_type": "markdown",
   "id": "ab6d71bf",
   "metadata": {},
   "source": [
    "https://www.joenord.com/triangle-peg-board-game-solutions-to-amaze-your-friends/"
   ]
  },
  {
   "cell_type": "markdown",
   "id": "93f36416",
   "metadata": {},
   "source": [
    "#### Defining the Board"
   ]
  },
  {
   "cell_type": "code",
   "execution_count": 58,
   "id": "5222c7ec",
   "metadata": {},
   "outputs": [
    {
     "data": {
      "image/png": "[encoded data removed]",
      "text/plain": [
       "<Figure size 360x360 with 1 Axes>"
      ]
     },
     "metadata": {},
     "output_type": "display_data"
    }
   ],
   "source": [
    "# create board\n",
    "coords = [(1,1), (3,1), (5,1), (7,1), (9,1),\n",
    "          (2,2), (4,2), (6,2), (8,2),\n",
    "          (3,3), (5,3), (7,3),\n",
    "          (4,4), (6,4),\n",
    "          (5,5)]\n",
    "\n",
    "Xs = [x[0] for x in coords ]\n",
    "Ys = [x[1] for x in coords ]\n",
    "\n",
    "plt.figure(figsize=(5,5))\n",
    "sns.set_style(\"whitegrid\")\n",
    "sns.scatterplot(x=Xs, y=Ys);"
   ]
  },
  {
   "cell_type": "code",
   "execution_count": 59,
   "id": "d1d7dc94",
   "metadata": {},
   "outputs": [
    {
     "name": "stdout",
     "output_type": "stream",
     "text": [
      "(4, 2)\n"
     ]
    },
    {
     "data": {
      "image/png": "[encoded data removed]",
      "text/plain": [
       "<Figure size 360x360 with 1 Axes>"
      ]
     },
     "metadata": {},
     "output_type": "display_data"
    }
   ],
   "source": [
    "# removing the first piece randomly\n",
    "random_m = random.choice(coords)\n",
    "print(random_m)\n",
    "\n",
    "coords = [m for m in coords if m != random_m]\n",
    "\n",
    "Js = [x[0] for x in coords ]\n",
    "Ks = [x[1] for x in coords ]\n",
    "\n",
    "plt.figure(figsize=(5,5))\n",
    "sns.set_style(\"whitegrid\")\n",
    "sns.scatterplot(x=Js, y=Ks);"
   ]
  },
  {
   "cell_type": "code",
   "execution_count": 46,
   "id": "4e285415",
   "metadata": {},
   "outputs": [],
   "source": [
    "m = (5,1)\n",
    "\n",
    "\n",
    "possible_origins = [(1,1), (3,3), (5,5), (7,3), (9,1)]\n",
    "\n",
    "\n",
    "possible_x = [x[0] for x in possible_origins]\n",
    "possible_y = [y[1] for y in possible_origins]\n",
    "\n",
    "\n",
    "rules1 = list(zip([i - m[0] for i in possible_x], [i - m[1] for i in possible_y]))\n",
    "rules2 = list(zip([m[0] - i for i in possible_x], [m[1] - i for i in possible_y]))"
   ]
  },
  {
   "cell_type": "code",
   "execution_count": 48,
   "id": "96e9927c",
   "metadata": {},
   "outputs": [
    {
     "name": "stdout",
     "output_type": "stream",
     "text": [
      "[(-4, 0), (-2, 2), (0, 4), (2, 2), (4, 0)]\n",
      "[(4, 0), (2, -2), (0, -4), (-2, -2), (-4, 0)]\n"
     ]
    }
   ],
   "source": [
    "print(rules1)\n",
    "print(rules2)"
   ]
  },
  {
   "cell_type": "code",
   "execution_count": 50,
   "id": "de4eadcb",
   "metadata": {},
   "outputs": [
    {
     "data": {
      "image/png": "[encoded data removed]",
      "text/plain": [
       "<Figure size 432x288 with 1 Axes>"
      ]
     },
     "metadata": {},
     "output_type": "display_data"
    }
   ],
   "source": [
    "sns.set_style(\"whitegrid\")\n",
    "sns.scatterplot(x=possible_x, y=possible_y);"
   ]
  },
  {
   "cell_type": "code",
   "execution_count": 51,
   "id": "dbee4e8b",
   "metadata": {},
   "outputs": [],
   "source": [
    "m = (3, 1)\n",
    "possible_origins = [(5, 3), (7,1)]\n",
    "possible_x = [x[0] for x in possible_origins]\n",
    "possible_y = [y[1] for y in possible_origins]\n",
    "rules = list(zip([i - m[0] for i in possible_x], [i - m[1] for i in possible_y]))"
   ]
  },
  {
   "cell_type": "code",
   "execution_count": 7,
   "id": "0e01e76e",
   "metadata": {},
   "outputs": [
    {
     "data": {
      "text/plain": [
       "[(2, 2), (4, 0)]"
      ]
     },
     "execution_count": 7,
     "metadata": {},
     "output_type": "execute_result"
    }
   ],
   "source": [
    "rules"
   ]
  },
  {
   "cell_type": "code",
   "execution_count": 8,
   "id": "ffab72df",
   "metadata": {},
   "outputs": [],
   "source": [
    "m = (1, 1)\n",
    "possible_origins = [(3, 3), (5,1)]\n",
    "possible_x = [x[0] for x in possible_origins]\n",
    "possible_y = [y[1] for y in possible_origins]\n",
    "rules = list(zip([i - m[0] for i in possible_x], [i - m[1] for i in possible_y]))"
   ]
  },
  {
   "cell_type": "code",
   "execution_count": 9,
   "id": "011d2a9f",
   "metadata": {},
   "outputs": [
    {
     "data": {
      "text/plain": [
       "[(2, 2), (4, 0)]"
      ]
     },
     "execution_count": 9,
     "metadata": {},
     "output_type": "execute_result"
    }
   ],
   "source": [
    "rules"
   ]
  },
  {
   "cell_type": "code",
   "execution_count": 12,
   "id": "397260ee",
   "metadata": {},
   "outputs": [],
   "source": [
    "m = (7, 1)\n",
    "possible_origins = [(5, 3), (3,1)]\n",
    "possible_x = [x[0] for x in possible_origins]\n",
    "possible_y = [y[1] for y in possible_origins]\n",
    "rules = list(zip([i - m[0] for i in possible_x], [i - m[1] for i in possible_y]))"
   ]
  },
  {
   "cell_type": "code",
   "execution_count": 13,
   "id": "20f2536f",
   "metadata": {},
   "outputs": [
    {
     "data": {
      "text/plain": [
       "[(-2, 2), (-4, 0)]"
      ]
     },
     "execution_count": 13,
     "metadata": {},
     "output_type": "execute_result"
    }
   ],
   "source": [
    "rules"
   ]
  },
  {
   "cell_type": "code",
   "execution_count": 14,
   "id": "b7a98da4",
   "metadata": {},
   "outputs": [],
   "source": [
    "m = (9, 1)\n",
    "possible_origins = [(7, 3), (5,1)]\n",
    "possible_x = [x[0] for x in possible_origins]\n",
    "possible_y = [y[1] for y in possible_origins]\n",
    "rules = list(zip([i - m[0] for i in possible_x], [i - m[1] for i in possible_y]))"
   ]
  },
  {
   "cell_type": "code",
   "execution_count": 15,
   "id": "58148a68",
   "metadata": {},
   "outputs": [
    {
     "data": {
      "text/plain": [
       "[(-2, 2), (-4, 0)]"
      ]
     },
     "execution_count": 15,
     "metadata": {},
     "output_type": "execute_result"
    }
   ],
   "source": [
    "rules"
   ]
  },
  {
   "cell_type": "code",
   "execution_count": 16,
   "id": "cab24953",
   "metadata": {},
   "outputs": [],
   "source": [
    "m = (2, 2)\n",
    "possible_origins = [(4, 4), (6, 2)]\n",
    "possible_x = [x[0] for x in possible_origins]\n",
    "possible_y = [y[1] for y in possible_origins]\n",
    "rules = list(zip([i - m[0] for i in possible_x], [i - m[1] for i in possible_y]))"
   ]
  },
  {
   "cell_type": "code",
   "execution_count": 17,
   "id": "4e82a8d7",
   "metadata": {},
   "outputs": [
    {
     "data": {
      "text/plain": [
       "[(2, 2), (4, 0)]"
      ]
     },
     "execution_count": 17,
     "metadata": {},
     "output_type": "execute_result"
    }
   ],
   "source": [
    "rules"
   ]
  },
  {
   "cell_type": "code",
   "execution_count": 18,
   "id": "c8e1d893",
   "metadata": {},
   "outputs": [],
   "source": [
    "m = (4, 2)\n",
    "possible_origins = [(6, 4), (8, 2)]\n",
    "possible_x = [x[0] for x in possible_origins]\n",
    "possible_y = [y[1] for y in possible_origins]\n",
    "rules = list(zip([i - m[0] for i in possible_x], [i - m[1] for i in possible_y]))"
   ]
  },
  {
   "cell_type": "code",
   "execution_count": 19,
   "id": "cc76322c",
   "metadata": {},
   "outputs": [
    {
     "data": {
      "text/plain": [
       "[(2, 2), (4, 0)]"
      ]
     },
     "execution_count": 19,
     "metadata": {},
     "output_type": "execute_result"
    }
   ],
   "source": [
    "rules"
   ]
  },
  {
   "cell_type": "code",
   "execution_count": 24,
   "id": "cce4bed4",
   "metadata": {},
   "outputs": [],
   "source": [
    "m = (6, 2)\n",
    "possible_origins = [(4, 4), (2, 2)]\n",
    "possible_x = [x[0] for x in possible_origins]\n",
    "possible_y = [y[1] for y in possible_origins]\n",
    "rules = list(zip([i - m[0] for i in possible_x], [i - m[1] for i in possible_y]))"
   ]
  },
  {
   "cell_type": "code",
   "execution_count": 25,
   "id": "0a9a64e3",
   "metadata": {},
   "outputs": [
    {
     "data": {
      "text/plain": [
       "[(-2, 2), (-4, 0)]"
      ]
     },
     "execution_count": 25,
     "metadata": {},
     "output_type": "execute_result"
    }
   ],
   "source": [
    "rules"
   ]
  },
  {
   "cell_type": "code",
   "execution_count": 26,
   "id": "e8ae3b69",
   "metadata": {},
   "outputs": [],
   "source": [
    "m = (8, 2)\n",
    "possible_origins = [(6, 4), (4, 2)]\n",
    "possible_x = [x[0] for x in possible_origins]\n",
    "possible_y = [y[1] for y in possible_origins]\n",
    "rules = list(zip([i - m[0] for i in possible_x], [i - m[1] for i in possible_y]))"
   ]
  },
  {
   "cell_type": "code",
   "execution_count": 27,
   "id": "3175bff4",
   "metadata": {},
   "outputs": [
    {
     "data": {
      "text/plain": [
       "[(-2, 2), (-4, 0)]"
      ]
     },
     "execution_count": 27,
     "metadata": {},
     "output_type": "execute_result"
    }
   ],
   "source": [
    "rules"
   ]
  },
  {
   "cell_type": "code",
   "execution_count": 28,
   "id": "47d33429",
   "metadata": {},
   "outputs": [],
   "source": [
    "m = (3, 3)\n",
    "possible_origins = [(5, 5), (1, 1)]\n",
    "possible_x = [x[0] for x in possible_origins]\n",
    "possible_y = [y[1] for y in possible_origins]\n",
    "rules = list(zip([i - m[0] for i in possible_x], [i - m[1] for i in possible_y]))"
   ]
  },
  {
   "cell_type": "code",
   "execution_count": 29,
   "id": "be1d3f95",
   "metadata": {},
   "outputs": [
    {
     "data": {
      "text/plain": [
       "[(2, 2), (-2, -2)]"
      ]
     },
     "execution_count": 29,
     "metadata": {},
     "output_type": "execute_result"
    }
   ],
   "source": [
    "rules"
   ]
  },
  {
   "cell_type": "code",
   "execution_count": 30,
   "id": "4f663da0",
   "metadata": {},
   "outputs": [],
   "source": [
    "m = (5, 3)\n",
    "possible_origins = [(7, 1), (3, 1)]\n",
    "possible_x = [x[0] for x in possible_origins]\n",
    "possible_y = [y[1] for y in possible_origins]\n",
    "rules = list(zip([i - m[0] for i in possible_x], [i - m[1] for i in possible_y]))"
   ]
  },
  {
   "cell_type": "code",
   "execution_count": 31,
   "id": "833da938",
   "metadata": {},
   "outputs": [
    {
     "data": {
      "text/plain": [
       "[(2, -2), (-2, -2)]"
      ]
     },
     "execution_count": 31,
     "metadata": {},
     "output_type": "execute_result"
    }
   ],
   "source": [
    "rules"
   ]
  },
  {
   "cell_type": "code",
   "execution_count": 32,
   "id": "c874333e",
   "metadata": {},
   "outputs": [],
   "source": [
    "m = (7, 3)\n",
    "possible_origins = [(5, 1), (9, 1), (3,3), (5,5)]\n",
    "possible_x = [x[0] for x in possible_origins]\n",
    "possible_y = [y[1] for y in possible_origins]\n",
    "rules = list(zip([i - m[0] for i in possible_x], [i - m[1] for i in possible_y]))"
   ]
  },
  {
   "cell_type": "code",
   "execution_count": 33,
   "id": "e7dbe65e",
   "metadata": {},
   "outputs": [
    {
     "data": {
      "text/plain": [
       "[(-2, -2), (2, -2), (-4, 0), (-2, 2)]"
      ]
     },
     "execution_count": 33,
     "metadata": {},
     "output_type": "execute_result"
    }
   ],
   "source": [
    "rules"
   ]
  },
  {
   "cell_type": "code",
   "execution_count": 34,
   "id": "c81a4992",
   "metadata": {},
   "outputs": [],
   "source": [
    "m = (4, 4)\n",
    "possible_origins = [(2, 2), (6, 2)]\n",
    "possible_x = [x[0] for x in possible_origins]\n",
    "possible_y = [y[1] for y in possible_origins]\n",
    "rules = list(zip([i - m[0] for i in possible_x], [i - m[1] for i in possible_y]))"
   ]
  },
  {
   "cell_type": "code",
   "execution_count": 35,
   "id": "28db62c5",
   "metadata": {},
   "outputs": [
    {
     "data": {
      "text/plain": [
       "[(-2, -2), (2, -2)]"
      ]
     },
     "execution_count": 35,
     "metadata": {},
     "output_type": "execute_result"
    }
   ],
   "source": [
    "rules"
   ]
  },
  {
   "cell_type": "code",
   "execution_count": 38,
   "id": "e3fee0f1",
   "metadata": {},
   "outputs": [],
   "source": [
    "m = (6, 4)\n",
    "possible_origins = [(4, 2), (8, 2)]\n",
    "possible_x = [x[0] for x in possible_origins]\n",
    "possible_y = [y[1] for y in possible_origins]\n",
    "rules = list(zip([i - m[0] for i in possible_x], [i - m[1] for i in possible_y]))"
   ]
  },
  {
   "cell_type": "code",
   "execution_count": 39,
   "id": "d52744ad",
   "metadata": {},
   "outputs": [
    {
     "data": {
      "text/plain": [
       "[(-2, -2), (2, -2)]"
      ]
     },
     "execution_count": 39,
     "metadata": {},
     "output_type": "execute_result"
    }
   ],
   "source": [
    "rules"
   ]
  },
  {
   "cell_type": "code",
   "execution_count": 40,
   "id": "0f73bd24",
   "metadata": {},
   "outputs": [],
   "source": [
    "m = (5, 5)\n",
    "possible_origins = [(5, 1), (3, 3), (7, 3)]\n",
    "possible_x = [x[0] for x in possible_origins]\n",
    "possible_y = [y[1] for y in possible_origins]\n",
    "rules = list(zip([i - m[0] for i in possible_x], [i - m[1] for i in possible_y]))"
   ]
  },
  {
   "cell_type": "code",
   "execution_count": 41,
   "id": "f2f644cb",
   "metadata": {},
   "outputs": [
    {
     "data": {
      "text/plain": [
       "[(0, -4), (-2, -2), (2, -2)]"
      ]
     },
     "execution_count": 41,
     "metadata": {},
     "output_type": "execute_result"
    }
   ],
   "source": [
    "rules"
   ]
  },
  {
   "cell_type": "markdown",
   "id": "c8b6e4b1",
   "metadata": {},
   "source": [
    "#### Renaming Coords"
   ]
  },
  {
   "cell_type": "code",
   "execution_count": 2,
   "id": "f996598c",
   "metadata": {},
   "outputs": [],
   "source": [
    "coords = [(1,1), (3,1), (5,1), (7,1), (9,1),\n",
    "          (2,2), (4,2), (6,2), (8,2),\n",
    "          (3,3), (5,3), (7,3),\n",
    "          (4,4), (6,4),\n",
    "          (5,5)]\n",
    "\n",
    "one = (5,5)\n",
    "two = (4,4)\n",
    "three = (6,4)\n",
    "four = (3,3)\n",
    "five = (5,3)\n",
    "six = (7,3)\n",
    "seven = (2,2)\n",
    "eight = (4,2)\n",
    "nine = (6,2)\n",
    "ten = (8,2)\n",
    "eleven = (1,1)\n",
    "twelve = (3,1)\n",
    "thirteen = (5,1)\n",
    "fourteen = (7,1)\n",
    "fifteen = (9,1)"
   ]
  },
  {
   "cell_type": "code",
   "execution_count": null,
   "id": "0612d072",
   "metadata": {},
   "outputs": [],
   "source": []
  }
 ],
 "metadata": {
  "kernelspec": {
   "display_name": "Python (metal_env)",
   "language": "python",
   "name": "metal_env"
  },
  "language_info": {
   "codemirror_mode": {
    "name": "ipython",
    "version": 3
   },
   "file_extension": ".py",
   "mimetype": "text/x-python",
   "name": "python",
   "nbconvert_exporter": "python",
   "pygments_lexer": "ipython3",
   "version": "3.9.1"
  }
 },
 "nbformat": 4,
 "nbformat_minor": 5
}
